{
 "cells": [
  {
   "cell_type": "code",
   "execution_count": 69,
   "metadata": {},
   "outputs": [
    {
     "name": "stdout",
     "output_type": "stream",
     "text": [
      "The autoreload extension is already loaded. To reload it, use:\n",
      "  %reload_ext autoreload\n"
     ]
    }
   ],
   "source": [
    "from simulator.game15 import Grid\n",
    "from tqdm import tqdm\n",
    "from matplotlib import pyplot as plt\n",
    "import numpy as np\n",
    "%load_ext autoreload\n",
    "%autoreload 2"
   ]
  },
  {
   "cell_type": "code",
   "execution_count": 39,
   "metadata": {},
   "outputs": [
    {
     "name": "stdout",
     "output_type": "stream",
     "text": [
      "(0, 1, 2, 3, 4, 5, 6, 7, 8, 9, 10, 11, 12, 13, 14, 15, 16, 17, 18, 19, 20, 21, 22, 23, 24)\n",
      "(0, 1, 2, 3, 4, 5, 6, 7, 8, 24, 10, 11, 12, 14, 9, 15, 16, 17, 13, 18, 20, 21, 22, 23, 19)\n"
     ]
    }
   ],
   "source": [
    "n_shuffles=10\n",
    "n_samples=100\n",
    "grid = Grid(5)\n",
    "for _ in range(2):\n",
    "    grid.reset()\n",
    "    grid.shuffle_n(n_shuffles)\n",
    "    print(grid.get_state())"
   ]
  },
  {
   "cell_type": "code",
   "execution_count": 40,
   "metadata": {},
   "outputs": [],
   "source": [
    "from n_puzzle.envs import NPuzzleEnv\n",
    "env = NPuzzleEnv({}, n=5)"
   ]
  },
  {
   "cell_type": "code",
   "execution_count": 65,
   "metadata": {},
   "outputs": [
    {
     "name": "stderr",
     "output_type": "stream",
     "text": [
      "100%|██████████| 1000/1000 [00:08<00:00, 115.49it/s]\n"
     ]
    }
   ],
   "source": [
    "num_samples=1000\n",
    "empirical_k = []\n",
    "for _ in tqdm(range(num_samples)):\n",
    "    observation, info = env.reset(options={\"k_moves\": 100})\n",
    "    k = env.get_effective_k(info[\"shuffle\"])\n",
    "    empirical_k.append(k)"
   ]
  },
  {
   "cell_type": "code",
   "execution_count": 66,
   "metadata": {},
   "outputs": [
    {
     "data": {
      "text/plain": [
       "Text(0, 0.5, '# of shuffles')"
      ]
     },
     "execution_count": 66,
     "metadata": {},
     "output_type": "execute_result"
    },
    {
     "data": {
      "image/png": "[encoded data removed]",
      "text/plain": [
       "<Figure size 640x480 with 1 Axes>"
      ]
     },
     "metadata": {},
     "output_type": "display_data"
    }
   ],
   "source": [
    "plt.hist(empirical_k)\n",
    "plt.title(\"1000 shuffles of length 1000\")\n",
    "plt.xlabel(\"shuffle length\")\n",
    "plt.ylabel(\"# of shuffles\")"
   ]
  },
  {
   "cell_type": "code",
   "execution_count": 37,
   "metadata": {},
   "outputs": [
    {
     "name": "stderr",
     "output_type": "stream",
     "text": [
      "  0%|          | 0/1000 [00:00<?, ?it/s]"
     ]
    },
    {
     "name": "stdout",
     "output_type": "stream",
     "text": [
      "[[ 0  1  2  3  4]\n",
      " [ 5  6  7  8  9]\n",
      " [10 11 12 13 14]\n",
      " [15 16 17 23 18]\n",
      " [20 21 22 24 19]]\n",
      "[0 2 1]\n",
      "[0 3 1]\n",
      "[[ 0  1  2  3  4]\n",
      " [ 5  6  7  8  9]\n",
      " [10 11 12 13 14]\n",
      " [15 16 17 18 24]\n",
      " [20 21 22 23 19]]\n"
     ]
    },
    {
     "name": "stderr",
     "output_type": "stream",
     "text": [
      "\n"
     ]
    }
   ],
   "source": [
    "num_samples=1000\n",
    "solved = []\n",
    "for _ in tqdm(range(num_samples)):\n",
    "    observation, info = env.reset(options={\"k_moves\": 5})\n",
    "    print(env._get_obs())\n",
    "    solution = env.get_unshuffle(info[\"shuffle\"])\n",
    "    for move in solution[:-1]:\n",
    "        env.step(move)\n",
    "    last = env.step(move)\n",
    "    if not last[2]:\n",
    "        print(info[\"shuffle\"])\n",
    "        print(solution)\n",
    "        print(env._get_obs())\n",
    "        break\n",
    "    solved.append(last[2])"
   ]
  },
  {
   "cell_type": "code",
   "execution_count": 32,
   "metadata": {},
   "outputs": [
    {
     "data": {
      "text/plain": [
       "[True]"
      ]
     },
     "execution_count": 32,
     "metadata": {},
     "output_type": "execute_result"
    }
   ],
   "source": [
    "solved"
   ]
  },
  {
   "cell_type": "code",
   "execution_count": null,
   "metadata": {},
   "outputs": [],
   "source": []
  }
 ],
 "metadata": {
  "kernelspec": {
   "display_name": "Python 3",
   "language": "python",
   "name": "python3"
  },
  "language_info": {
   "codemirror_mode": {
    "name": "ipython",
    "version": 3
   },
   "file_extension": ".py",
   "mimetype": "text/x-python",
   "name": "python",
   "nbconvert_exporter": "python",
   "pygments_lexer": "ipython3",
   "version": "3.9.19"
  }
 },
 "nbformat": 4,
 "nbformat_minor": 2
}
